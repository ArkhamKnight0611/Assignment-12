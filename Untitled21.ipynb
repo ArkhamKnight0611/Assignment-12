{
  "nbformat": 4,
  "nbformat_minor": 0,
  "metadata": {
    "colab": {
      "provenance": []
    },
    "kernelspec": {
      "name": "python3",
      "display_name": "Python 3"
    },
    "language_info": {
      "name": "python"
    }
  },
  "cells": [
    {
      "cell_type": "code",
      "execution_count": 2,
      "metadata": {
        "id": "aA3mx_mJr3AR"
      },
      "outputs": [],
      "source": [
        "# API is the acronym for application programming interface — a software intermediary that allows two applications to talk to each other.\n",
        "# APIs are an accessible way to extract and share data within and across organizations.\n",
        "# APIs are used in web applications to connect user-facing front ends with critical back-end functionality and data.\n",
        "# APIs are used to deliver material by streaming services such as Spotify and Netflix."
      ]
    },
    {
      "cell_type": "code",
      "source": [
        "# Advantages:\n",
        "\n",
        "# Increased Interoperability: API solutions enable different software systems to communicate with each other, regardless of their programming language or platform. This enhances the interoperability between systems, allowing for the exchange of data and functionality.\n",
        "# Improved Efficiency: API driven infrastructures enable developers to reuse code and functionality from existing software systems, saving time and reducing the amount of code that needs to be written from scratch.\n",
        "# Better User Experience: APIs can enable third-party developers to create applications that integrate with existing software systems, providing a better user experience and increased functionality.\n",
        "# Increased Flexibility: APIs provide developers with greater flexibility, enabling them to choose the best programming languages and frameworks for their needs.\n",
        "# New Revenue Streams: APIs can enable companies to create new revenue streams by providing third-party developers with access to their software systems.\n",
        "\n",
        "# Disadvantages:\n",
        "# Security Concerns: API infrastructures can be vulnerable to security breaches, such as SQL injection attacks and cross-site scripting (XSS) attacks, making it crucial to implement security measures to protect against these threats.\n",
        "# Complexity: APIs can be complex, requiring a significant amount of development effort to implement and maintain.\n",
        "# Compatibility Issues: APIs can have compatibility issues between different versions of the same software system or between different systems, which can lead to errors and system failures.\n",
        "# Dependency on Third-Party Developers: APIs rely on third-party developers to create applications that integrate with the software system. This can create dependencies that are outside of the control of the company that owns the software system.\n",
        "# Governance and Management: APIs require proper governance and management to ensure they are being used correctly and consistently across different applications and systems."
      ],
      "metadata": {
        "id": "4aDJkNbjsDa7"
      },
      "execution_count": 4,
      "outputs": []
    },
    {
      "cell_type": "code",
      "source": [
        "# API is an interface that exposes an application's data to outside software, whereas web applications are one type of API with stricter requirements.\n",
        "# These requirements include network communication, SOAP as the primary protocol, and less accessibility for the public."
      ],
      "metadata": {
        "id": "2AICC3-QtheC"
      },
      "execution_count": 5,
      "outputs": []
    },
    {
      "cell_type": "code",
      "source": [
        "# SOAP stands for Simple Object Access Protocol and REST stands for Representational State Transfer.\n",
        "# Since SOAP is a protocol, it follows a strict standard to allow communication between the client and the server whereas REST is an architectural style that doesn’t follow any strict standard but follows six constraints defined by Roy Fielding in 2000. Those constraints are – Uniform Interface, Client-Server, Stateless, Cacheable, Layered System, Code on Demand.\n",
        "# SOAP uses only XML for exchanging information in its message format whereas REST is not restricted to XML and its the choice of implementer which Media-Type to use like XML, JSON, Plain-text. Moreover, REST can use SOAP protocol but SOAP cannot use REST.\n",
        "# On behalf of services interfaces to business logic, SOAP uses @WebService whereas REST instead of using interfaces uses URI like @Path.\n",
        "# SOAP is difficult to implement and it requires more bandwidth whereas REST is easy to implement and requires less bandwidth such as smartphones."
      ],
      "metadata": {
        "id": "-WcMZmqltkBb"
      },
      "execution_count": 6,
      "outputs": []
    }
  ]
}